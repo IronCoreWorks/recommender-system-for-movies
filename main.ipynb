{
 "cells": [
  {
   "cell_type": "markdown",
   "metadata": {
    "id": "Lzk7iX_CodX6",
    "tags": []
   },
   "source": [
    "# Collaborative Filtering Recommender Systems\n",
    "\n",
    "A recommender system for movies."
   ]
  },
  {
   "cell_type": "code",
   "execution_count": 1,
   "metadata": {
    "deletable": false,
    "editable": false
   },
   "outputs": [],
   "source": [
    "import numpy as np\n",
    "import pandas as pd\n",
    "import tensorflow as tf"
   ]
  },
  {
   "cell_type": "markdown",
   "metadata": {
    "id": "6-09Hto6odYD"
   },
   "source": [
    "Movie ratings dataset from [MovieLens \"ml-latest-small\"](https://grouplens.org/datasets/movielens/latest/).\n",
    "\n",
    "This (reduced) dataset consists of ratings on a scale of 0.5 to 5 in 0.5 step increments. The reduced dataset has $n_u = 443$ users, and $n_m= 4778$ movies. "
   ]
  },
  {
   "cell_type": "code",
   "execution_count": 2,
   "metadata": {},
   "outputs": [],
   "source": [
    "ratings_df = pd.read_csv(\"./ml-latest-small/ratings.csv\")"
   ]
  },
  {
   "cell_type": "code",
   "execution_count": 3,
   "metadata": {},
   "outputs": [
    {
     "data": {
      "text/html": [
       "<div>\n",
       "<style scoped>\n",
       "    .dataframe tbody tr th:only-of-type {\n",
       "        vertical-align: middle;\n",
       "    }\n",
       "\n",
       "    .dataframe tbody tr th {\n",
       "        vertical-align: top;\n",
       "    }\n",
       "\n",
       "    .dataframe thead th {\n",
       "        text-align: right;\n",
       "    }\n",
       "</style>\n",
       "<table border=\"1\" class=\"dataframe\">\n",
       "  <thead>\n",
       "    <tr style=\"text-align: right;\">\n",
       "      <th></th>\n",
       "      <th>userId</th>\n",
       "      <th>movieId</th>\n",
       "      <th>rating</th>\n",
       "      <th>timestamp</th>\n",
       "    </tr>\n",
       "  </thead>\n",
       "  <tbody>\n",
       "    <tr>\n",
       "      <th>0</th>\n",
       "      <td>1</td>\n",
       "      <td>1</td>\n",
       "      <td>4.0</td>\n",
       "      <td>964982703</td>\n",
       "    </tr>\n",
       "    <tr>\n",
       "      <th>1</th>\n",
       "      <td>1</td>\n",
       "      <td>3</td>\n",
       "      <td>4.0</td>\n",
       "      <td>964981247</td>\n",
       "    </tr>\n",
       "    <tr>\n",
       "      <th>2</th>\n",
       "      <td>1</td>\n",
       "      <td>6</td>\n",
       "      <td>4.0</td>\n",
       "      <td>964982224</td>\n",
       "    </tr>\n",
       "    <tr>\n",
       "      <th>3</th>\n",
       "      <td>1</td>\n",
       "      <td>47</td>\n",
       "      <td>5.0</td>\n",
       "      <td>964983815</td>\n",
       "    </tr>\n",
       "    <tr>\n",
       "      <th>4</th>\n",
       "      <td>1</td>\n",
       "      <td>50</td>\n",
       "      <td>5.0</td>\n",
       "      <td>964982931</td>\n",
       "    </tr>\n",
       "  </tbody>\n",
       "</table>\n",
       "</div>"
      ],
      "text/plain": [
       "   userId  movieId  rating  timestamp\n",
       "0       1        1     4.0  964982703\n",
       "1       1        3     4.0  964981247\n",
       "2       1        6     4.0  964982224\n",
       "3       1       47     5.0  964983815\n",
       "4       1       50     5.0  964982931"
      ]
     },
     "execution_count": 3,
     "metadata": {},
     "output_type": "execute_result"
    }
   ],
   "source": [
    "ratings_df.head()"
   ]
  },
  {
   "cell_type": "code",
   "execution_count": 4,
   "metadata": {},
   "outputs": [
    {
     "name": "stdout",
     "output_type": "stream",
     "text": [
      "max_user_id 610\n",
      "max_user_id 193609\n"
     ]
    }
   ],
   "source": [
    "max_user_id = ratings_df[\"userId\"].max()\n",
    "print(\"max_user_id\", max_user_id)\n",
    "\n",
    "max_movie_id = ratings_df[\"movieId\"].max()\n",
    "print(\"max_user_id\", max_movie_id)"
   ]
  },
  {
   "cell_type": "code",
   "execution_count": 5,
   "metadata": {},
   "outputs": [],
   "source": [
    "movies_df = pd.read_csv(\"./ml-latest-small/movies.csv\")\n",
    "\n",
    "# Create a mapping dictionary for movieId to row number\n",
    "mapping_dict = dict(zip(movies_df[\"movieId\"], movies_df.index + 1))"
   ]
  },
  {
   "cell_type": "code",
   "execution_count": 6,
   "metadata": {},
   "outputs": [
    {
     "data": {
      "text/plain": [
       "437"
      ]
     },
     "execution_count": 6,
     "metadata": {},
     "output_type": "execute_result"
    }
   ],
   "source": [
    "mapping_dict[500]"
   ]
  },
  {
   "cell_type": "code",
   "execution_count": 7,
   "metadata": {},
   "outputs": [
    {
     "name": "stderr",
     "output_type": "stream",
     "text": [
      "/var/folders/2j/5hwf_xns24z3hc6bmf268x340000gn/T/ipykernel_32087/891554212.py:1: UserWarning: Boolean Series key will be reindexed to match DataFrame index.\n",
      "  ratings_df[ratings_df[\"userId\"] == 1][ratings_df[\"movieId\"] == 500]\n"
     ]
    },
    {
     "data": {
      "text/html": [
       "<div>\n",
       "<style scoped>\n",
       "    .dataframe tbody tr th:only-of-type {\n",
       "        vertical-align: middle;\n",
       "    }\n",
       "\n",
       "    .dataframe tbody tr th {\n",
       "        vertical-align: top;\n",
       "    }\n",
       "\n",
       "    .dataframe thead th {\n",
       "        text-align: right;\n",
       "    }\n",
       "</style>\n",
       "<table border=\"1\" class=\"dataframe\">\n",
       "  <thead>\n",
       "    <tr style=\"text-align: right;\">\n",
       "      <th></th>\n",
       "      <th>userId</th>\n",
       "      <th>movieId</th>\n",
       "      <th>rating</th>\n",
       "      <th>timestamp</th>\n",
       "    </tr>\n",
       "  </thead>\n",
       "  <tbody>\n",
       "    <tr>\n",
       "      <th>27</th>\n",
       "      <td>1</td>\n",
       "      <td>500</td>\n",
       "      <td>3.0</td>\n",
       "      <td>964981208</td>\n",
       "    </tr>\n",
       "  </tbody>\n",
       "</table>\n",
       "</div>"
      ],
      "text/plain": [
       "    userId  movieId  rating  timestamp\n",
       "27       1      500     3.0  964981208"
      ]
     },
     "execution_count": 7,
     "metadata": {},
     "output_type": "execute_result"
    }
   ],
   "source": [
    "ratings_df[ratings_df[\"userId\"] == 1][ratings_df[\"movieId\"] == 500]"
   ]
  },
  {
   "cell_type": "code",
   "execution_count": 8,
   "metadata": {},
   "outputs": [],
   "source": [
    "# Update the movieId column in the ratings DataFrame\n",
    "ratings_df[\"movieId\"] = ratings_df[\"movieId\"].map(mapping_dict)"
   ]
  },
  {
   "cell_type": "code",
   "execution_count": 9,
   "metadata": {},
   "outputs": [
    {
     "name": "stderr",
     "output_type": "stream",
     "text": [
      "/var/folders/2j/5hwf_xns24z3hc6bmf268x340000gn/T/ipykernel_32087/3985427632.py:1: UserWarning: Boolean Series key will be reindexed to match DataFrame index.\n",
      "  ratings_df[ratings_df[\"userId\"] == 1][ratings_df[\"movieId\"] == 437]\n"
     ]
    },
    {
     "data": {
      "text/html": [
       "<div>\n",
       "<style scoped>\n",
       "    .dataframe tbody tr th:only-of-type {\n",
       "        vertical-align: middle;\n",
       "    }\n",
       "\n",
       "    .dataframe tbody tr th {\n",
       "        vertical-align: top;\n",
       "    }\n",
       "\n",
       "    .dataframe thead th {\n",
       "        text-align: right;\n",
       "    }\n",
       "</style>\n",
       "<table border=\"1\" class=\"dataframe\">\n",
       "  <thead>\n",
       "    <tr style=\"text-align: right;\">\n",
       "      <th></th>\n",
       "      <th>userId</th>\n",
       "      <th>movieId</th>\n",
       "      <th>rating</th>\n",
       "      <th>timestamp</th>\n",
       "    </tr>\n",
       "  </thead>\n",
       "  <tbody>\n",
       "    <tr>\n",
       "      <th>27</th>\n",
       "      <td>1</td>\n",
       "      <td>437</td>\n",
       "      <td>3.0</td>\n",
       "      <td>964981208</td>\n",
       "    </tr>\n",
       "  </tbody>\n",
       "</table>\n",
       "</div>"
      ],
      "text/plain": [
       "    userId  movieId  rating  timestamp\n",
       "27       1      437     3.0  964981208"
      ]
     },
     "execution_count": 9,
     "metadata": {},
     "output_type": "execute_result"
    }
   ],
   "source": [
    "ratings_df[ratings_df[\"userId\"] == 1][ratings_df[\"movieId\"] == 437]"
   ]
  },
  {
   "cell_type": "code",
   "execution_count": 10,
   "metadata": {},
   "outputs": [
    {
     "data": {
      "text/html": [
       "<div>\n",
       "<style scoped>\n",
       "    .dataframe tbody tr th:only-of-type {\n",
       "        vertical-align: middle;\n",
       "    }\n",
       "\n",
       "    .dataframe tbody tr th {\n",
       "        vertical-align: top;\n",
       "    }\n",
       "\n",
       "    .dataframe thead th {\n",
       "        text-align: right;\n",
       "    }\n",
       "</style>\n",
       "<table border=\"1\" class=\"dataframe\">\n",
       "  <thead>\n",
       "    <tr style=\"text-align: right;\">\n",
       "      <th></th>\n",
       "      <th>movieId</th>\n",
       "      <th>title</th>\n",
       "      <th>genres</th>\n",
       "    </tr>\n",
       "  </thead>\n",
       "  <tbody>\n",
       "    <tr>\n",
       "      <th>436</th>\n",
       "      <td>500</td>\n",
       "      <td>Mrs. Doubtfire (1993)</td>\n",
       "      <td>Comedy|Drama</td>\n",
       "    </tr>\n",
       "  </tbody>\n",
       "</table>\n",
       "</div>"
      ],
      "text/plain": [
       "     movieId                  title        genres\n",
       "436      500  Mrs. Doubtfire (1993)  Comedy|Drama"
      ]
     },
     "execution_count": 10,
     "metadata": {},
     "output_type": "execute_result"
    }
   ],
   "source": [
    "movies_df[movies_df[\"movieId\"] == 500]"
   ]
  },
  {
   "cell_type": "code",
   "execution_count": 11,
   "metadata": {},
   "outputs": [],
   "source": [
    "movies_df[\"movieId\"] = movies_df[\"movieId\"].map(mapping_dict)"
   ]
  },
  {
   "cell_type": "code",
   "execution_count": 12,
   "metadata": {},
   "outputs": [
    {
     "data": {
      "text/html": [
       "<div>\n",
       "<style scoped>\n",
       "    .dataframe tbody tr th:only-of-type {\n",
       "        vertical-align: middle;\n",
       "    }\n",
       "\n",
       "    .dataframe tbody tr th {\n",
       "        vertical-align: top;\n",
       "    }\n",
       "\n",
       "    .dataframe thead th {\n",
       "        text-align: right;\n",
       "    }\n",
       "</style>\n",
       "<table border=\"1\" class=\"dataframe\">\n",
       "  <thead>\n",
       "    <tr style=\"text-align: right;\">\n",
       "      <th></th>\n",
       "      <th>movieId</th>\n",
       "      <th>title</th>\n",
       "      <th>genres</th>\n",
       "    </tr>\n",
       "  </thead>\n",
       "  <tbody>\n",
       "    <tr>\n",
       "      <th>436</th>\n",
       "      <td>437</td>\n",
       "      <td>Mrs. Doubtfire (1993)</td>\n",
       "      <td>Comedy|Drama</td>\n",
       "    </tr>\n",
       "  </tbody>\n",
       "</table>\n",
       "</div>"
      ],
      "text/plain": [
       "     movieId                  title        genres\n",
       "436      437  Mrs. Doubtfire (1993)  Comedy|Drama"
      ]
     },
     "execution_count": 12,
     "metadata": {},
     "output_type": "execute_result"
    }
   ],
   "source": [
    "movies_df[movies_df[\"movieId\"] == 437]"
   ]
  },
  {
   "cell_type": "code",
   "execution_count": 13,
   "metadata": {},
   "outputs": [],
   "source": [
    "# create matrix R, the user-movie ratings\n",
    "# R = ratings_df.pivot(index=\"movieId\", columns=\"userId\", values=\"rating\")\n",
    "R = ratings_df.pivot_table(\n",
    "    index=\"movieId\",\n",
    "    columns=\"userId\",\n",
    "    values=\"rating\",\n",
    "    aggfunc=lambda x: 1 if x.notnull().any() else 0,\n",
    "    fill_value=0,\n",
    ")"
   ]
  },
  {
   "cell_type": "code",
   "execution_count": 14,
   "metadata": {},
   "outputs": [
    {
     "data": {
      "text/html": [
       "<div>\n",
       "<style scoped>\n",
       "    .dataframe tbody tr th:only-of-type {\n",
       "        vertical-align: middle;\n",
       "    }\n",
       "\n",
       "    .dataframe tbody tr th {\n",
       "        vertical-align: top;\n",
       "    }\n",
       "\n",
       "    .dataframe thead th {\n",
       "        text-align: right;\n",
       "    }\n",
       "</style>\n",
       "<table border=\"1\" class=\"dataframe\">\n",
       "  <thead>\n",
       "    <tr style=\"text-align: right;\">\n",
       "      <th>userId</th>\n",
       "      <th>1</th>\n",
       "      <th>2</th>\n",
       "      <th>3</th>\n",
       "      <th>4</th>\n",
       "      <th>5</th>\n",
       "      <th>6</th>\n",
       "      <th>7</th>\n",
       "      <th>8</th>\n",
       "      <th>9</th>\n",
       "      <th>10</th>\n",
       "      <th>...</th>\n",
       "      <th>601</th>\n",
       "      <th>602</th>\n",
       "      <th>603</th>\n",
       "      <th>604</th>\n",
       "      <th>605</th>\n",
       "      <th>606</th>\n",
       "      <th>607</th>\n",
       "      <th>608</th>\n",
       "      <th>609</th>\n",
       "      <th>610</th>\n",
       "    </tr>\n",
       "    <tr>\n",
       "      <th>movieId</th>\n",
       "      <th></th>\n",
       "      <th></th>\n",
       "      <th></th>\n",
       "      <th></th>\n",
       "      <th></th>\n",
       "      <th></th>\n",
       "      <th></th>\n",
       "      <th></th>\n",
       "      <th></th>\n",
       "      <th></th>\n",
       "      <th></th>\n",
       "      <th></th>\n",
       "      <th></th>\n",
       "      <th></th>\n",
       "      <th></th>\n",
       "      <th></th>\n",
       "      <th></th>\n",
       "      <th></th>\n",
       "      <th></th>\n",
       "      <th></th>\n",
       "      <th></th>\n",
       "    </tr>\n",
       "  </thead>\n",
       "  <tbody>\n",
       "    <tr>\n",
       "      <th>1</th>\n",
       "      <td>1</td>\n",
       "      <td>0</td>\n",
       "      <td>0</td>\n",
       "      <td>0</td>\n",
       "      <td>1</td>\n",
       "      <td>0</td>\n",
       "      <td>1</td>\n",
       "      <td>0</td>\n",
       "      <td>0</td>\n",
       "      <td>0</td>\n",
       "      <td>...</td>\n",
       "      <td>1</td>\n",
       "      <td>0</td>\n",
       "      <td>1</td>\n",
       "      <td>1</td>\n",
       "      <td>1</td>\n",
       "      <td>1</td>\n",
       "      <td>1</td>\n",
       "      <td>1</td>\n",
       "      <td>1</td>\n",
       "      <td>1</td>\n",
       "    </tr>\n",
       "    <tr>\n",
       "      <th>2</th>\n",
       "      <td>0</td>\n",
       "      <td>0</td>\n",
       "      <td>0</td>\n",
       "      <td>0</td>\n",
       "      <td>0</td>\n",
       "      <td>1</td>\n",
       "      <td>0</td>\n",
       "      <td>1</td>\n",
       "      <td>0</td>\n",
       "      <td>0</td>\n",
       "      <td>...</td>\n",
       "      <td>0</td>\n",
       "      <td>1</td>\n",
       "      <td>0</td>\n",
       "      <td>1</td>\n",
       "      <td>1</td>\n",
       "      <td>0</td>\n",
       "      <td>0</td>\n",
       "      <td>1</td>\n",
       "      <td>0</td>\n",
       "      <td>0</td>\n",
       "    </tr>\n",
       "    <tr>\n",
       "      <th>3</th>\n",
       "      <td>1</td>\n",
       "      <td>0</td>\n",
       "      <td>0</td>\n",
       "      <td>0</td>\n",
       "      <td>0</td>\n",
       "      <td>1</td>\n",
       "      <td>0</td>\n",
       "      <td>0</td>\n",
       "      <td>0</td>\n",
       "      <td>0</td>\n",
       "      <td>...</td>\n",
       "      <td>0</td>\n",
       "      <td>0</td>\n",
       "      <td>0</td>\n",
       "      <td>0</td>\n",
       "      <td>0</td>\n",
       "      <td>0</td>\n",
       "      <td>0</td>\n",
       "      <td>1</td>\n",
       "      <td>0</td>\n",
       "      <td>0</td>\n",
       "    </tr>\n",
       "    <tr>\n",
       "      <th>4</th>\n",
       "      <td>0</td>\n",
       "      <td>0</td>\n",
       "      <td>0</td>\n",
       "      <td>0</td>\n",
       "      <td>0</td>\n",
       "      <td>1</td>\n",
       "      <td>0</td>\n",
       "      <td>0</td>\n",
       "      <td>0</td>\n",
       "      <td>0</td>\n",
       "      <td>...</td>\n",
       "      <td>0</td>\n",
       "      <td>0</td>\n",
       "      <td>0</td>\n",
       "      <td>0</td>\n",
       "      <td>0</td>\n",
       "      <td>0</td>\n",
       "      <td>0</td>\n",
       "      <td>0</td>\n",
       "      <td>0</td>\n",
       "      <td>0</td>\n",
       "    </tr>\n",
       "    <tr>\n",
       "      <th>5</th>\n",
       "      <td>0</td>\n",
       "      <td>0</td>\n",
       "      <td>0</td>\n",
       "      <td>0</td>\n",
       "      <td>0</td>\n",
       "      <td>1</td>\n",
       "      <td>0</td>\n",
       "      <td>0</td>\n",
       "      <td>0</td>\n",
       "      <td>0</td>\n",
       "      <td>...</td>\n",
       "      <td>0</td>\n",
       "      <td>0</td>\n",
       "      <td>0</td>\n",
       "      <td>1</td>\n",
       "      <td>0</td>\n",
       "      <td>0</td>\n",
       "      <td>0</td>\n",
       "      <td>0</td>\n",
       "      <td>0</td>\n",
       "      <td>0</td>\n",
       "    </tr>\n",
       "  </tbody>\n",
       "</table>\n",
       "<p>5 rows × 610 columns</p>\n",
       "</div>"
      ],
      "text/plain": [
       "userId   1    2    3    4    5    6    7    8    9    10   ...  601  602  603  \\\n",
       "movieId                                                    ...                  \n",
       "1          1    0    0    0    1    0    1    0    0    0  ...    1    0    1   \n",
       "2          0    0    0    0    0    1    0    1    0    0  ...    0    1    0   \n",
       "3          1    0    0    0    0    1    0    0    0    0  ...    0    0    0   \n",
       "4          0    0    0    0    0    1    0    0    0    0  ...    0    0    0   \n",
       "5          0    0    0    0    0    1    0    0    0    0  ...    0    0    0   \n",
       "\n",
       "userId   604  605  606  607  608  609  610  \n",
       "movieId                                     \n",
       "1          1    1    1    1    1    1    1  \n",
       "2          1    1    0    0    1    0    0  \n",
       "3          0    0    0    0    1    0    0  \n",
       "4          0    0    0    0    0    0    0  \n",
       "5          1    0    0    0    0    0    0  \n",
       "\n",
       "[5 rows x 610 columns]"
      ]
     },
     "execution_count": 14,
     "metadata": {},
     "output_type": "execute_result"
    }
   ],
   "source": [
    "R.head()"
   ]
  },
  {
   "cell_type": "code",
   "execution_count": 15,
   "metadata": {},
   "outputs": [
    {
     "data": {
      "text/plain": [
       "userId\n",
       "1      1\n",
       "2      0\n",
       "3      0\n",
       "4      0\n",
       "5      1\n",
       "      ..\n",
       "606    1\n",
       "607    1\n",
       "608    1\n",
       "609    1\n",
       "610    1\n",
       "Name: 1, Length: 610, dtype: int64"
      ]
     },
     "execution_count": 15,
     "metadata": {},
     "output_type": "execute_result"
    }
   ],
   "source": [
    "R.iloc[0]"
   ]
  },
  {
   "cell_type": "code",
   "execution_count": 16,
   "metadata": {},
   "outputs": [],
   "source": [
    "Y = ratings_df.pivot_table(\n",
    "    index=\"movieId\", columns=\"userId\", values=\"rating\", fill_value=0\n",
    ")"
   ]
  },
  {
   "cell_type": "code",
   "execution_count": 17,
   "metadata": {},
   "outputs": [
    {
     "data": {
      "text/plain": [
       "(9724, 610)"
      ]
     },
     "execution_count": 17,
     "metadata": {},
     "output_type": "execute_result"
    }
   ],
   "source": [
    "Y.shape"
   ]
  },
  {
   "cell_type": "code",
   "execution_count": 18,
   "metadata": {},
   "outputs": [
    {
     "data": {
      "text/html": [
       "<div>\n",
       "<style scoped>\n",
       "    .dataframe tbody tr th:only-of-type {\n",
       "        vertical-align: middle;\n",
       "    }\n",
       "\n",
       "    .dataframe tbody tr th {\n",
       "        vertical-align: top;\n",
       "    }\n",
       "\n",
       "    .dataframe thead th {\n",
       "        text-align: right;\n",
       "    }\n",
       "</style>\n",
       "<table border=\"1\" class=\"dataframe\">\n",
       "  <thead>\n",
       "    <tr style=\"text-align: right;\">\n",
       "      <th>userId</th>\n",
       "      <th>1</th>\n",
       "      <th>2</th>\n",
       "      <th>3</th>\n",
       "      <th>4</th>\n",
       "      <th>5</th>\n",
       "      <th>6</th>\n",
       "      <th>7</th>\n",
       "      <th>8</th>\n",
       "      <th>9</th>\n",
       "      <th>10</th>\n",
       "      <th>...</th>\n",
       "      <th>601</th>\n",
       "      <th>602</th>\n",
       "      <th>603</th>\n",
       "      <th>604</th>\n",
       "      <th>605</th>\n",
       "      <th>606</th>\n",
       "      <th>607</th>\n",
       "      <th>608</th>\n",
       "      <th>609</th>\n",
       "      <th>610</th>\n",
       "    </tr>\n",
       "    <tr>\n",
       "      <th>movieId</th>\n",
       "      <th></th>\n",
       "      <th></th>\n",
       "      <th></th>\n",
       "      <th></th>\n",
       "      <th></th>\n",
       "      <th></th>\n",
       "      <th></th>\n",
       "      <th></th>\n",
       "      <th></th>\n",
       "      <th></th>\n",
       "      <th></th>\n",
       "      <th></th>\n",
       "      <th></th>\n",
       "      <th></th>\n",
       "      <th></th>\n",
       "      <th></th>\n",
       "      <th></th>\n",
       "      <th></th>\n",
       "      <th></th>\n",
       "      <th></th>\n",
       "      <th></th>\n",
       "    </tr>\n",
       "  </thead>\n",
       "  <tbody>\n",
       "    <tr>\n",
       "      <th>1</th>\n",
       "      <td>4.0</td>\n",
       "      <td>0.0</td>\n",
       "      <td>0.0</td>\n",
       "      <td>0.0</td>\n",
       "      <td>4.0</td>\n",
       "      <td>0.0</td>\n",
       "      <td>4.5</td>\n",
       "      <td>0.0</td>\n",
       "      <td>0.0</td>\n",
       "      <td>0.0</td>\n",
       "      <td>...</td>\n",
       "      <td>4.0</td>\n",
       "      <td>0.0</td>\n",
       "      <td>4.0</td>\n",
       "      <td>3.0</td>\n",
       "      <td>4.0</td>\n",
       "      <td>2.5</td>\n",
       "      <td>4.0</td>\n",
       "      <td>2.5</td>\n",
       "      <td>3.0</td>\n",
       "      <td>5.0</td>\n",
       "    </tr>\n",
       "    <tr>\n",
       "      <th>2</th>\n",
       "      <td>0.0</td>\n",
       "      <td>0.0</td>\n",
       "      <td>0.0</td>\n",
       "      <td>0.0</td>\n",
       "      <td>0.0</td>\n",
       "      <td>4.0</td>\n",
       "      <td>0.0</td>\n",
       "      <td>4.0</td>\n",
       "      <td>0.0</td>\n",
       "      <td>0.0</td>\n",
       "      <td>...</td>\n",
       "      <td>0.0</td>\n",
       "      <td>4.0</td>\n",
       "      <td>0.0</td>\n",
       "      <td>5.0</td>\n",
       "      <td>3.5</td>\n",
       "      <td>0.0</td>\n",
       "      <td>0.0</td>\n",
       "      <td>2.0</td>\n",
       "      <td>0.0</td>\n",
       "      <td>0.0</td>\n",
       "    </tr>\n",
       "    <tr>\n",
       "      <th>3</th>\n",
       "      <td>4.0</td>\n",
       "      <td>0.0</td>\n",
       "      <td>0.0</td>\n",
       "      <td>0.0</td>\n",
       "      <td>0.0</td>\n",
       "      <td>5.0</td>\n",
       "      <td>0.0</td>\n",
       "      <td>0.0</td>\n",
       "      <td>0.0</td>\n",
       "      <td>0.0</td>\n",
       "      <td>...</td>\n",
       "      <td>0.0</td>\n",
       "      <td>0.0</td>\n",
       "      <td>0.0</td>\n",
       "      <td>0.0</td>\n",
       "      <td>0.0</td>\n",
       "      <td>0.0</td>\n",
       "      <td>0.0</td>\n",
       "      <td>2.0</td>\n",
       "      <td>0.0</td>\n",
       "      <td>0.0</td>\n",
       "    </tr>\n",
       "    <tr>\n",
       "      <th>4</th>\n",
       "      <td>0.0</td>\n",
       "      <td>0.0</td>\n",
       "      <td>0.0</td>\n",
       "      <td>0.0</td>\n",
       "      <td>0.0</td>\n",
       "      <td>3.0</td>\n",
       "      <td>0.0</td>\n",
       "      <td>0.0</td>\n",
       "      <td>0.0</td>\n",
       "      <td>0.0</td>\n",
       "      <td>...</td>\n",
       "      <td>0.0</td>\n",
       "      <td>0.0</td>\n",
       "      <td>0.0</td>\n",
       "      <td>0.0</td>\n",
       "      <td>0.0</td>\n",
       "      <td>0.0</td>\n",
       "      <td>0.0</td>\n",
       "      <td>0.0</td>\n",
       "      <td>0.0</td>\n",
       "      <td>0.0</td>\n",
       "    </tr>\n",
       "    <tr>\n",
       "      <th>5</th>\n",
       "      <td>0.0</td>\n",
       "      <td>0.0</td>\n",
       "      <td>0.0</td>\n",
       "      <td>0.0</td>\n",
       "      <td>0.0</td>\n",
       "      <td>5.0</td>\n",
       "      <td>0.0</td>\n",
       "      <td>0.0</td>\n",
       "      <td>0.0</td>\n",
       "      <td>0.0</td>\n",
       "      <td>...</td>\n",
       "      <td>0.0</td>\n",
       "      <td>0.0</td>\n",
       "      <td>0.0</td>\n",
       "      <td>3.0</td>\n",
       "      <td>0.0</td>\n",
       "      <td>0.0</td>\n",
       "      <td>0.0</td>\n",
       "      <td>0.0</td>\n",
       "      <td>0.0</td>\n",
       "      <td>0.0</td>\n",
       "    </tr>\n",
       "  </tbody>\n",
       "</table>\n",
       "<p>5 rows × 610 columns</p>\n",
       "</div>"
      ],
      "text/plain": [
       "userId   1    2    3    4    5    6    7    8    9    10   ...  601  602  603  \\\n",
       "movieId                                                    ...                  \n",
       "1        4.0  0.0  0.0  0.0  4.0  0.0  4.5  0.0  0.0  0.0  ...  4.0  0.0  4.0   \n",
       "2        0.0  0.0  0.0  0.0  0.0  4.0  0.0  4.0  0.0  0.0  ...  0.0  4.0  0.0   \n",
       "3        4.0  0.0  0.0  0.0  0.0  5.0  0.0  0.0  0.0  0.0  ...  0.0  0.0  0.0   \n",
       "4        0.0  0.0  0.0  0.0  0.0  3.0  0.0  0.0  0.0  0.0  ...  0.0  0.0  0.0   \n",
       "5        0.0  0.0  0.0  0.0  0.0  5.0  0.0  0.0  0.0  0.0  ...  0.0  0.0  0.0   \n",
       "\n",
       "userId   604  605  606  607  608  609  610  \n",
       "movieId                                     \n",
       "1        3.0  4.0  2.5  4.0  2.5  3.0  5.0  \n",
       "2        5.0  3.5  0.0  0.0  2.0  0.0  0.0  \n",
       "3        0.0  0.0  0.0  0.0  2.0  0.0  0.0  \n",
       "4        0.0  0.0  0.0  0.0  0.0  0.0  0.0  \n",
       "5        3.0  0.0  0.0  0.0  0.0  0.0  0.0  \n",
       "\n",
       "[5 rows x 610 columns]"
      ]
     },
     "execution_count": 18,
     "metadata": {},
     "output_type": "execute_result"
    }
   ],
   "source": [
    "Y.head()"
   ]
  },
  {
   "cell_type": "code",
   "execution_count": 19,
   "metadata": {},
   "outputs": [
    {
     "data": {
      "text/plain": [
       "userId\n",
       "1      4.0\n",
       "2      0.0\n",
       "3      0.0\n",
       "4      0.0\n",
       "5      4.0\n",
       "      ... \n",
       "606    2.5\n",
       "607    4.0\n",
       "608    2.5\n",
       "609    3.0\n",
       "610    5.0\n",
       "Name: 1, Length: 610, dtype: float64"
      ]
     },
     "execution_count": 19,
     "metadata": {},
     "output_type": "execute_result"
    }
   ],
   "source": [
    "Y.iloc[0]"
   ]
  },
  {
   "cell_type": "code",
   "execution_count": 20,
   "metadata": {},
   "outputs": [
    {
     "name": "stdout",
     "output_type": "stream",
     "text": [
      "Y (9724, 610) R (9724, 610)\n"
     ]
    }
   ],
   "source": [
    "print(\"Y\", Y.shape, \"R\", R.shape)"
   ]
  },
  {
   "cell_type": "code",
   "execution_count": 21,
   "metadata": {},
   "outputs": [
    {
     "name": "stdout",
     "output_type": "stream",
     "text": [
      "Average rating for movie 1 : 3.921 / 5\n"
     ]
    }
   ],
   "source": [
    "# df to np array\n",
    "Y = Y.values\n",
    "R = R.values\n",
    "\n",
    "# calculate mean for the 1st movie\n",
    "tsmean = np.mean(Y[0, R[0, :].astype(bool)])\n",
    "print(f\"Average rating for movie 1 : {tsmean:0.3f} / 5\")"
   ]
  },
  {
   "cell_type": "markdown",
   "metadata": {
    "id": "bcqg0LJWodYH"
   },
   "source": [
    "\n",
    "## Cost function\n",
    "\n",
    "The collaborative filtering cost function is given by\n",
    "$$J({\\mathbf{x}^{(0)},...,\\mathbf{x}^{(n_m-1)},\\mathbf{w}^{(0)},b^{(0)},...,\\mathbf{w}^{(n_u-1)},b^{(n_u-1)}})= \\left[ \\frac{1}{2}\\sum_{(i,j):r(i,j)=1}(\\mathbf{w}^{(j)} \\cdot \\mathbf{x}^{(i)} + b^{(j)} - y^{(i,j)})^2 \\right]\n",
    "+ \\underbrace{\\left[\n",
    "\\frac{\\lambda}{2}\n",
    "\\sum_{j=0}^{n_u-1}\\sum_{k=0}^{n-1}(\\mathbf{w}^{(j)}_k)^2\n",
    "+ \\frac{\\lambda}{2}\\sum_{i=0}^{n_m-1}\\sum_{k=0}^{n-1}(\\mathbf{x}_k^{(i)})^2\n",
    "\\right]}_{regularization}\n",
    "\\tag{1}$$\n",
    "The first summation in (1) is \"for all $i$, $j$ where $r(i,j)$ equals $1$\" and could be written:\n",
    "\n",
    "$$\n",
    "= \\left[ \\frac{1}{2}\\sum_{j=0}^{n_u-1} \\sum_{i=0}^{n_m-1}r(i,j)*(\\mathbf{w}^{(j)} \\cdot \\mathbf{x}^{(i)} + b^{(j)} - y^{(i,j)})^2 \\right]\n",
    "+\\text{regularization}\n",
    "$$\n"
   ]
  },
  {
   "cell_type": "code",
   "execution_count": 22,
   "metadata": {},
   "outputs": [],
   "source": [
    "def cofi_cost_func_v(X, W, b, Y, R, lambda_):\n",
    "    \"\"\"\n",
    "    Returns the cost for the content-based filtering\n",
    "    Vectorized for speed. Uses tensorflow operations to be compatible with custom training loop.\n",
    "    Args:\n",
    "      X (ndarray (num_movies,num_features)): matrix of item features\n",
    "      W (ndarray (num_users,num_features)) : matrix of user parameters\n",
    "      b (ndarray (1, num_users)            : vector of user parameters\n",
    "      Y (ndarray (num_movies,num_users)    : matrix of user ratings of movies\n",
    "      R (ndarray (num_movies,num_users)    : matrix, where R(i, j) = 1 if the i-th movies was rated by the j-th user\n",
    "      lambda_ (float): regularization parameter\n",
    "    Returns:\n",
    "      J (float) : Cost\n",
    "    \"\"\"\n",
    "    j = (tf.linalg.matmul(X, tf.transpose(W)) + b - Y) * R\n",
    "    J = 0.5 * tf.reduce_sum(j**2) + (lambda_ / 2) * (\n",
    "        tf.reduce_sum(X**2) + tf.reduce_sum(W**2)\n",
    "    )\n",
    "    return J"
   ]
  },
  {
   "cell_type": "code",
   "execution_count": 23,
   "metadata": {},
   "outputs": [],
   "source": [
    "def normalizeRatings(Y, R):\n",
    "    \"\"\"\n",
    "    Preprocess data by subtracting mean rating for every movie (every row).\n",
    "    Only include real ratings R(i,j)=1.\n",
    "    [Ynorm, Ymean] = normalizeRatings(Y, R) normalized Y so that each movie\n",
    "    has a rating of 0 on average. Unrated moves then have a mean rating (0)\n",
    "    Returns the mean rating in Ymean.\n",
    "    \"\"\"\n",
    "    Ymean = (np.sum(Y * R, axis=1) / (np.sum(R, axis=1) + 1e-12)).reshape(-1, 1)\n",
    "    Ynorm = Y - np.multiply(Ymean, R)\n",
    "    return (Ynorm, Ymean)"
   ]
  },
  {
   "cell_type": "code",
   "execution_count": 24,
   "metadata": {},
   "outputs": [],
   "source": [
    "# Normalize the Dataset\n",
    "Ynorm, Ymean = normalizeRatings(Y, R)"
   ]
  },
  {
   "cell_type": "code",
   "execution_count": 30,
   "metadata": {},
   "outputs": [],
   "source": [
    "# for consistent results\n",
    "SEED = 42\n",
    "\n",
    "#  Useful Values\n",
    "num_movies, num_users = Y.shape\n",
    "num_features = 100\n",
    "\n",
    "# Set Initial Parameters (W, X), use tf.Variable to track these variables\n",
    "tf.random.set_seed(SEED)\n",
    "W = tf.Variable(tf.random.normal((num_users, num_features), dtype=tf.float64), name=\"W\")\n",
    "X = tf.Variable(\n",
    "    tf.random.normal((num_movies, num_features), dtype=tf.float64), name=\"X\"\n",
    ")\n",
    "b = tf.Variable(tf.random.normal((1, num_users), dtype=tf.float64), name=\"b\")\n",
    "\n",
    "optimizer = tf.keras.optimizers.legacy.Adam(learning_rate=1e-1)"
   ]
  },
  {
   "cell_type": "code",
   "execution_count": 31,
   "metadata": {
    "deletable": false,
    "editable": false
   },
   "outputs": [
    {
     "name": "stdout",
     "output_type": "stream",
     "text": [
      "X (9724, 100)\n",
      "W (610, 100)\n",
      "b (1, 610)\n",
      "num_features 100\n"
     ]
    }
   ],
   "source": [
    "print(\"X\", X.shape)\n",
    "print(\"W\", W.shape)\n",
    "print(\"b\", b.shape)\n",
    "print(\"num_features\", num_features)"
   ]
  },
  {
   "cell_type": "code",
   "execution_count": 32,
   "metadata": {},
   "outputs": [
    {
     "name": "stdout",
     "output_type": "stream",
     "text": [
      "Training loss at iteration 0: 5569194.9\n",
      "Training loss at iteration 50: 74231.8\n",
      "Training loss at iteration 100: 19463.6\n",
      "Training loss at iteration 150: 9042.4\n",
      "Training loss at iteration 200: 6076.7\n",
      "Training loss at iteration 250: 5039.1\n",
      "Training loss at iteration 300: 4605.9\n",
      "Training loss at iteration 350: 4393.0\n",
      "Training loss at iteration 400: 4272.4\n",
      "Training loss at iteration 450: 4196.0\n"
     ]
    }
   ],
   "source": [
    "iterations = 500\n",
    "lambda_ = 1\n",
    "\n",
    "for iter in range(iterations):\n",
    "    # record the operations used to compute the cost\n",
    "    with tf.GradientTape() as tape:\n",
    "        cost_value = cofi_cost_func_v(X, W, b, Ynorm, R, lambda_)\n",
    "\n",
    "    grads = tape.gradient(cost_value, [X, W, b])\n",
    "    optimizer.apply_gradients(zip(grads, [X, W, b]))\n",
    "\n",
    "    if iter % 50 == 0:\n",
    "        print(f\"Training loss at iteration {iter}: {cost_value:0.1f}\")"
   ]
  },
  {
   "cell_type": "code",
   "execution_count": 33,
   "metadata": {
    "deletable": false,
    "id": "WJO8Jr0UodYR"
   },
   "outputs": [],
   "source": [
    "movieList_df = pd.read_csv(\n",
    "    \"./ml-latest-small/movies.csv\",\n",
    "    header=0,\n",
    "    index_col=0,\n",
    "    delimiter=\",\",\n",
    "    quotechar='\"',\n",
    ")\n",
    "movieList = movies_df[\"title\"].to_list()"
   ]
  },
  {
   "cell_type": "code",
   "execution_count": 34,
   "metadata": {},
   "outputs": [
    {
     "data": {
      "text/plain": [
       "['Toy Story (1995)',\n",
       " 'Jumanji (1995)',\n",
       " 'Grumpier Old Men (1995)',\n",
       " 'Waiting to Exhale (1995)',\n",
       " 'Father of the Bride Part II (1995)']"
      ]
     },
     "execution_count": 34,
     "metadata": {},
     "output_type": "execute_result"
    }
   ],
   "source": [
    "movieList[:5]"
   ]
  },
  {
   "cell_type": "code",
   "execution_count": 35,
   "metadata": {},
   "outputs": [],
   "source": [
    "movies_df.to_csv(\"./temp.csv\")"
   ]
  },
  {
   "cell_type": "code",
   "execution_count": 36,
   "metadata": {},
   "outputs": [
    {
     "name": "stdout",
     "output_type": "stream",
     "text": [
      "\n",
      "New user ratings:\n",
      "\n",
      "Rated 5.0 for  Pulp Fiction (1994)\n",
      "Rated 5.0 for  Shawshank Redemption, The (1994)\n",
      "Rated 1.0 for  2001: A Space Odyssey (1968)\n",
      "Rated 5.0 for  Memento (2000)\n",
      "Rated 4.0 for  Fast and the Furious, The (2001)\n",
      "Rated 3.0 for  Amelie (Fabuleux destin d'Amélie Poulain, Le) (2001)\n",
      "Rated 5.0 for  I, Robot (2004)\n",
      "Rated 5.0 for  Batman Begins (2005)\n",
      "Rated 5.0 for  X-Men Origins: Wolverine (2009)\n",
      "Rated 5.0 for  How to Train Your Dragon (2010)\n",
      "Rated 4.5 for  My Afternoons with Margueritte (La tête en friche) (2010)\n",
      "Rated 4.5 for  Wolf of Wall Street, The (2013)\n",
      "Rated 1.0 for  Justice League (2017)\n"
     ]
    }
   ],
   "source": [
    "my_ratings = np.zeros(num_movies)\n",
    "\n",
    "my_ratings[277] = 5  # 277,\"Shawshank Redemption, The (1994)\",Crime|Drama\n",
    "my_ratings[3141] = 5  # 3141,Memento (2000),Mystery|Thriller\n",
    "my_ratings[706] = 1  # 706,2001: A Space Odyssey (1968),Adventure|Drama|Sci-Fi\n",
    "my_ratings[3233] = 4  # 3233,\"Fast and the Furious, The (2001)\",Action|Crime|Thriller\n",
    "my_ratings[257] = 5  # 257,Pulp Fiction (1994),Comedy|Crime|Drama|Thriller\n",
    "my_ratings[\n",
    "    7302\n",
    "] = 5  # 7302,How to Train Your Dragon (2010),Adventure|Animation|Children|Fantasy|IMAX\n",
    "my_ratings[3622] = 3  # 3622,Amelie (Fabuleux destin d'Amélie Poulain, Le)\n",
    "my_ratings[\n",
    "    7667\n",
    "] = 4.5  # 7667,My Afternoons with Margueritte (La tête en friche) (2010),Comedy\n",
    "my_ratings[5265] = 5  # 5265,\"I, Robot (2004)\",Action|Adventure|Sci-Fi|Thriller\n",
    "my_ratings[8305] = 4.5  # 8305,\"Wolf of Wall Street, The (2013)\",Comedy|Crime|Drama\n",
    "my_ratings[7016] = 5  # 7016,X-Men Origins: Wolverine (2009),Action|Sci-Fi|Thriller\n",
    "my_ratings[8688] = 1  # 8688,Justice League (2017),Action|Adventure|Sci-Fi\n",
    "my_ratings[5917] = 5  # 5917,Batman Begins (2005),Action|Crime|IMAX\n",
    "\n",
    "my_rated = [i for i in range(len(my_ratings)) if my_ratings[i] > 0]\n",
    "\n",
    "print(\"\\nNew user ratings:\\n\")\n",
    "for i in range(len(my_ratings)):\n",
    "    if my_ratings[i] > 0:\n",
    "        print(f'Rated {my_ratings[i]} for  {movies_df.loc[i,\"title\"]}')"
   ]
  },
  {
   "cell_type": "code",
   "execution_count": 42,
   "metadata": {},
   "outputs": [],
   "source": [
    "# Add new user ratings to Y\n",
    "Y = np.c_[my_ratings, Y]\n",
    "\n",
    "# Add new user indicator matrix to R\n",
    "R = np.c_[(my_ratings != 0).astype(int), R]"
   ]
  },
  {
   "cell_type": "code",
   "execution_count": 47,
   "metadata": {},
   "outputs": [],
   "source": [
    "# Normalize the Dataset\n",
    "Ynorm, Ymean = normalizeRatings(Y, R)"
   ]
  },
  {
   "cell_type": "code",
   "execution_count": 48,
   "metadata": {},
   "outputs": [],
   "source": [
    "# for consistent results\n",
    "SEED = 42\n",
    "\n",
    "#  Useful Values\n",
    "num_movies, num_users = Y.shape\n",
    "num_features = 100\n",
    "\n",
    "# Set Initial Parameters (W, X), use tf.Variable to track these variables\n",
    "tf.random.set_seed(SEED)\n",
    "W = tf.Variable(tf.random.normal((num_users, num_features), dtype=tf.float64), name=\"W\")\n",
    "X = tf.Variable(\n",
    "    tf.random.normal((num_movies, num_features), dtype=tf.float64), name=\"X\"\n",
    ")\n",
    "b = tf.Variable(tf.random.normal((1, num_users), dtype=tf.float64), name=\"b\")\n",
    "\n",
    "optimizer = tf.keras.optimizers.legacy.Adam(learning_rate=1e-1)"
   ]
  },
  {
   "cell_type": "code",
   "execution_count": 49,
   "metadata": {},
   "outputs": [
    {
     "name": "stdout",
     "output_type": "stream",
     "text": [
      "611\n"
     ]
    }
   ],
   "source": [
    "print(num_users)"
   ]
  },
  {
   "cell_type": "code",
   "execution_count": 50,
   "metadata": {},
   "outputs": [
    {
     "name": "stdout",
     "output_type": "stream",
     "text": [
      "Training loss at iteration 0: 5610060.4\n",
      "Training loss at iteration 50: 74642.7\n",
      "Training loss at iteration 100: 19605.5\n",
      "Training loss at iteration 150: 9118.6\n",
      "Training loss at iteration 200: 6116.4\n",
      "Training loss at iteration 250: 5061.4\n",
      "Training loss at iteration 300: 4618.6\n",
      "Training loss at iteration 350: 4400.5\n",
      "Training loss at iteration 400: 4277.6\n",
      "Training loss at iteration 450: 4200.3\n"
     ]
    }
   ],
   "source": [
    "iterations = 500\n",
    "lambda_ = 1\n",
    "\n",
    "for iter in range(iterations):\n",
    "    # record the operations used to compute the cost\n",
    "    with tf.GradientTape() as tape:\n",
    "        cost_value = cofi_cost_func_v(X, W, b, Ynorm, R, lambda_)\n",
    "\n",
    "    grads = tape.gradient(cost_value, [X, W, b])\n",
    "    optimizer.apply_gradients(zip(grads, [X, W, b]))\n",
    "\n",
    "    if iter % 50 == 0:\n",
    "        print(f\"Training loss at iteration {iter}: {cost_value:0.1f}\")"
   ]
  },
  {
   "cell_type": "code",
   "execution_count": 62,
   "metadata": {
    "deletable": false,
    "editable": false,
    "id": "ns266wKtodYT"
   },
   "outputs": [
    {
     "name": "stdout",
     "output_type": "stream",
     "text": [
      "Predicting rating 5.00 for movie Crow: Salvation, The (2000)\n",
      "Predicting rating 5.00 for movie Return of Martin Guerre, The (Retour de Martin Guerre, Le) (1982)\n",
      "Predicting rating 5.00 for movie Tom and Jerry: Shiver Me Whiskers (2006)\n",
      "Predicting rating 5.00 for movie Thin Line Between Love and Hate, A (1996)\n",
      "Predicting rating 5.00 for movie The Fault in Our Stars (2014)\n",
      "Predicting rating 5.00 for movie Europa (Zentropa) (1991)\n",
      "Predicting rating 5.00 for movie Night Porter, The (Portiere di notte, Il) (1974)\n",
      "Predicting rating 5.00 for movie MatchMaker, The (1997)\n",
      "Predicting rating 5.00 for movie The Final Girls (2015)\n",
      "Predicting rating 5.00 for movie Beach Blanket Bingo (1965)\n",
      "Predicting rating 5.00 for movie Fog, The (2005)\n",
      "Predicting rating 5.00 for movie Bone Tomahawk (2015)\n",
      "Predicting rating 5.00 for movie Stand and Deliver (1988)\n",
      "Predicting rating 5.00 for movie Black Mass (2015)\n",
      "Predicting rating 5.00 for movie Tightrope (1984)\n",
      "Predicting rating 5.00 for movie Mozart and the Whale (2005)\n",
      "Predicting rating 5.00 for movie Crocodile Hunter: Collision Course, The (2002)\n",
      "Predicting rating 5.00 for movie City of Lost Souls, The (Hyôryuu-gai) (2000)\n",
      "Predicting rating 5.00 for movie Adanggaman (2000)\n",
      "Predicting rating 5.00 for movie Sacrament, The (2013)\n",
      "Predicting rating 5.00 for movie Deadpool (2016)\n",
      "Predicting rating 5.00 for movie Batman: Assault on Arkham (2014)\n",
      "Predicting rating 5.00 for movie Gold Diggers of 1935 (1935)\n",
      "Predicting rating 5.00 for movie Sherlock Holmes: The Woman in Green (1945)\n",
      "Predicting rating 5.00 for movie Topo, El (1970)\n",
      "Predicting rating 5.00 for movie Prime Suspect: The Lost Child (1995)\n",
      "Predicting rating 5.00 for movie Twelve Tasks of Asterix, The (Les douze travaux d'Astérix) (1976)\n",
      "Predicting rating 5.00 for movie Carabineers, The (Carabiniers, Les) (1963)\n",
      "Predicting rating 5.00 for movie Coco Before Chanel (Coco avant Chanel) (2009)\n",
      "Predicting rating 5.00 for movie She's Out of My League (2010)\n",
      "Predicting rating 5.00 for movie Angst  (1983)\n",
      "Predicting rating 5.00 for movie Predestination (2014)\n",
      "Predicting rating 5.00 for movie Lone Survivor (2013)\n",
      "Predicting rating 5.00 for movie God Loves Caviar (2012)\n",
      "Predicting rating 5.00 for movie Annie Get Your Gun (1950)\n",
      "Predicting rating 5.00 for movie Get Him to the Greek (2010)\n",
      "Predicting rating 5.00 for movie Bo Burnham: Make Happy (2016)\n",
      "Predicting rating 5.00 for movie Jim Jefferies: Freedumb (2016)\n",
      "Predicting rating 5.00 for movie Fullmetal Alchemist 2018 (2017)\n",
      "Predicting rating 5.00 for movie Pervert's Guide to Ideology, The (2012)\n",
      "Predicting rating 5.00 for movie The African Doctor (2016)\n",
      "Predicting rating 5.00 for movie Good, the Bad, the Weird, The (Joheunnom nabbeunnom isanghannom) (2008)\n",
      "Predicting rating 5.00 for movie Ghost in the Shell: Solid State Society (2006)\n",
      "Predicting rating 5.00 for movie Divorce, Le (2003)\n",
      "Predicting rating 5.00 for movie Rollo and the Woods Sprite (Rölli ja metsänhenki) (2001)\n",
      "Predicting rating 5.00 for movie Halloween II (2009)\n",
      "Predicting rating 5.00 for movie Camille (1936)\n",
      "Predicting rating 5.00 for movie Valhalla Rising (2009)\n",
      "Predicting rating 5.00 for movie Woman in Love (Rubbeldiekatz) (2011)\n",
      "Predicting rating 5.00 for movie Awfully Big Adventure, An (1995)\n",
      "Predicting rating 5.00 for movie What Happened Was... (1994)\n",
      "Predicting rating 5.00 for movie Sisters (1973)\n",
      "Predicting rating 5.00 for movie Bang, Bang, You're Dead (2002)\n",
      "Predicting rating 5.00 for movie Denise Calls Up (1995)\n",
      "Predicting rating 5.00 for movie For the Love of Benji (1977)\n",
      "Predicting rating 5.00 for movie Silk Stockings (1957)\n",
      "Predicting rating 5.00 for movie Daffy Duck's Quackbusters (1988)\n",
      "Predicting rating 5.00 for movie Adventures of Huck Finn, The (1993)\n",
      "Predicting rating 5.00 for movie Bachelor and the Bobby-Soxer, The (1947)\n",
      "Predicting rating 5.00 for movie When a Woman Ascends the Stairs (Onna ga kaidan wo agaru toki) (1960)\n",
      "Predicting rating 5.00 for movie Foul Play (1978)\n",
      "Predicting rating 5.00 for movie And God Created Woman (Et Dieu... créa la femme) (1956)\n",
      "Predicting rating 5.00 for movie Send Me No Flowers (1964)\n",
      "Predicting rating 5.00 for movie Rory Scovel Tries Stand-Up for the First Time (2017)\n",
      "Predicting rating 5.00 for movie Lost in La Mancha (2002)\n",
      "Predicting rating 5.00 for movie Invisible Man, The (1933)\n",
      "Predicting rating 5.00 for movie Killer Shrews, The (1959)\n",
      "Predicting rating 5.00 for movie Runaway (1984)\n",
      "Predicting rating 5.00 for movie Slumber Party Massacre, The (1982)\n",
      "Predicting rating 5.00 for movie World Is Not Enough, The (1999)\n",
      "Predicting rating 5.00 for movie Footloose (1984)\n",
      "Predicting rating 5.00 for movie Total Recall (2012)\n",
      "Predicting rating 5.00 for movie Heidi Fleiss: Hollywood Madam (1995)\n",
      "Predicting rating 5.00 for movie Letter, The (1940)\n",
      "Predicting rating 5.00 for movie Haywire (2011)\n",
      "Predicting rating 5.00 for movie Perfect Plan, A (Plan parfait, Un) (2012)\n",
      "Predicting rating 5.00 for movie Hustler White (1996)\n",
      "Predicting rating 5.00 for movie Cocktail (1988)\n",
      "Predicting rating 5.00 for movie Old School (2003)\n",
      "Predicting rating 5.00 for movie Generation Iron 2\n",
      "Predicting rating 5.00 for movie 84 Charing Cross Road (1987)\n",
      "Predicting rating 5.00 for movie Triumph of Love, The (2001)\n",
      "Predicting rating 5.00 for movie Get Carter (1971)\n",
      "Predicting rating 5.00 for movie Taps (1981)\n",
      "Predicting rating 5.00 for movie Ringu 0: Bâsudei (2000)\n",
      "Predicting rating 5.00 for movie Porco Rosso (Crimson Pig) (Kurenai no buta) (1992)\n",
      "Predicting rating 5.00 for movie Sully (2016)\n",
      "Predicting rating 5.00 for movie The Hateful Eight (2015)\n",
      "Predicting rating 5.00 for movie Wild, The (2006)\n",
      "Predicting rating 5.00 for movie Vampire Hunter D (1985)\n",
      "Predicting rating 5.00 for movie Maurice (1987)\n",
      "Predicting rating 5.00 for movie Pillow Talk (1959)\n",
      "Predicting rating 5.00 for movie Door in the Floor, The (2004)\n",
      "Predicting rating 5.00 for movie Long Night's Journey Into Day (2000)\n",
      "Predicting rating 5.00 for movie Austin Powers in Goldmember (2002)\n",
      "Predicting rating 5.00 for movie What Men Talk About (2010)\n",
      "Predicting rating 5.00 for movie Jane Eyre (2011)\n",
      "Predicting rating 5.00 for movie Bart Got a Room (2008)\n",
      "Predicting rating 5.00 for movie Letter to Three Wives, A (1949)\n",
      "Predicting rating 5.00 for movie Way Back, The (2010)\n",
      "\n",
      "\n",
      "Original vs Predicted ratings:\n",
      "\n",
      "Original 5.0, Predicted 4.99 for Pulp Fiction (1994)\n",
      "Original 5.0, Predicted 5.00 for Shawshank Redemption, The (1994)\n",
      "Original 1.0, Predicted 1.12 for 2001: A Space Odyssey (1968)\n",
      "Original 5.0, Predicted 4.52 for Memento (2000)\n",
      "Original 4.0, Predicted 4.17 for Fast and the Furious, The (2001)\n",
      "Original 3.0, Predicted 3.30 for Amelie (Fabuleux destin d'Amélie Poulain, Le) (2001)\n",
      "Original 5.0, Predicted 4.93 for I, Robot (2004)\n",
      "Original 5.0, Predicted 4.87 for Batman Begins (2005)\n",
      "Original 5.0, Predicted 4.99 for X-Men Origins: Wolverine (2009)\n",
      "Original 5.0, Predicted 4.73 for How to Train Your Dragon (2010)\n",
      "Original 4.5, Predicted 4.23 for My Afternoons with Margueritte (La tête en friche) (2010)\n",
      "Original 4.5, Predicted 4.61 for Wolf of Wall Street, The (2013)\n",
      "Original 1.0, Predicted 1.53 for Justice League (2017)\n"
     ]
    }
   ],
   "source": [
    "# Make a prediction using trained weights and biases\n",
    "p = np.matmul(X.numpy(), np.transpose(W.numpy())) + b.numpy()\n",
    "\n",
    "# restore the mean\n",
    "pm = p + Ymean\n",
    "\n",
    "my_predictions = pm[:, 0]\n",
    "\n",
    "# sort predictions\n",
    "ix = tf.argsort(my_predictions, direction=\"DESCENDING\")\n",
    "\n",
    "for i in range(100):\n",
    "    j = ix[i]\n",
    "    if j not in my_rated:\n",
    "        print(\n",
    "            f\"Predicting rating {min(5.0, my_predictions[j]):0.2f} for movie {movieList[j]}\"\n",
    "        )\n",
    "\n",
    "print(\"\\n\\nOriginal vs Predicted ratings:\\n\")\n",
    "for i in range(len(my_ratings)):\n",
    "    if my_ratings[i] > 0:\n",
    "        print(\n",
    "            f\"Original {my_ratings[i]}, Predicted {min(5.0, my_predictions[i]):0.2f} for {movieList[i]}\"\n",
    "        )"
   ]
  },
  {
   "cell_type": "markdown",
   "metadata": {},
   "source": [
    "In practice, additional information can be utilized to enhance our predictions. Above, the predicted ratings for the first few hundred movies lie in a small range. We can augment the above by selecting from those top movies, movies that have high average ratings and movies with more than 20 ratings. This section uses a [Pandas](https://pandas.pydata.org/) data frame which has many handy sorting features."
   ]
  },
  {
   "cell_type": "code",
   "execution_count": 61,
   "metadata": {
    "deletable": false,
    "editable": false
   },
   "outputs": [
    {
     "data": {
      "text/plain": [
       "(206, 3)"
      ]
     },
     "execution_count": 61,
     "metadata": {},
     "output_type": "execute_result"
    }
   ],
   "source": [
    "ratings_count = ratings_df[\"movieId\"].value_counts()\n",
    "\n",
    "popular_movies = movies_df[\n",
    "    movies_df[\"movieId\"].isin(ratings_count[ratings_count > 80].index)\n",
    "]\n",
    "\n",
    "popular_movies.shape"
   ]
  },
  {
   "cell_type": "code",
   "execution_count": 56,
   "metadata": {},
   "outputs": [
    {
     "name": "stdout",
     "output_type": "stream",
     "text": [
      "Predicting rating 5.44 for movie Awfully Big Adventure, An (1995)\n",
      "Predicting rating 5.43 for movie Heidi Fleiss: Hollywood Madam (1995)\n",
      "Predicting rating 5.42 for movie Lamerica (1994)\n",
      "Predicting rating 5.17 for movie Braveheart (1995)\n",
      "Predicting rating 4.97 for movie Usual Suspects, The (1995)\n",
      "Predicting rating 4.87 for movie Chungking Express (Chung Hing sam lam) (1994)\n",
      "Predicting rating 4.81 for movie Crimson Tide (1995)\n",
      "Predicting rating 4.78 for movie Die Hard: With a Vengeance (1995)\n",
      "Predicting rating 4.75 for movie Living in Oblivion (1995)\n",
      "Predicting rating 4.75 for movie Toy Story (1995)\n",
      "Predicting rating 4.74 for movie Heat (1995)\n",
      "Predicting rating 4.70 for movie Twelve Monkeys (a.k.a. 12 Monkeys) (1995)\n",
      "Predicting rating 4.69 for movie Cry, the Beloved Country (1995)\n",
      "Predicting rating 4.65 for movie Persuasion (1995)\n",
      "Predicting rating 4.60 for movie Crumb (1994)\n",
      "Predicting rating 4.57 for movie Clueless (1995)\n",
      "Predicting rating 4.52 for movie Flirting With Disaster (1996)\n",
      "Predicting rating 4.52 for movie Umbrellas of Cherbourg, The (Parapluies de Cherbourg, Les) (1964)\n",
      "Predicting rating 4.49 for movie Kids (1995)\n",
      "Predicting rating 4.49 for movie Party Girl (1995)\n",
      "Predicting rating 4.46 for movie White Squall (1996)\n",
      "Predicting rating 4.43 for movie Postman, The (Postino, Il) (1994)\n",
      "Predicting rating 4.43 for movie Nobody Loves Me (Keiner liebt mich) (1994)\n",
      "Predicting rating 4.43 for movie White Balloon, The (Badkonake sefid) (1995)\n",
      "Predicting rating 4.43 for movie Georgia (1995)\n",
      "Predicting rating 4.42 for movie Before the Rain (Pred dozhdot) (1994)\n",
      "Predicting rating 4.42 for movie Boys of St. Vincent, The (1992)\n",
      "Predicting rating 4.42 for movie Nico Icon (1995)\n",
      "Predicting rating 4.42 for movie Catwalk (1996)\n",
      "Predicting rating 4.42 for movie Beautiful Girls (1996)\n",
      "Predicting rating 4.38 for movie Friday (1995)\n",
      "Predicting rating 4.37 for movie Eat Drink Man Woman (Yin shi nan nu) (1994)\n",
      "Predicting rating 4.36 for movie Beauty of the Day (Belle de jour) (1967)\n",
      "Predicting rating 4.36 for movie Antonia's Line (Antonia) (1995)\n",
      "Predicting rating 4.36 for movie French Kiss (1995)\n",
      "Predicting rating 4.35 for movie Casino (1995)\n",
      "Predicting rating 4.34 for movie Nixon (1995)\n",
      "Predicting rating 4.33 for movie Far From Home: The Adventures of Yellow Dog (1995)\n",
      "Predicting rating 4.32 for movie Anne Frank Remembered (1995)\n",
      "Predicting rating 4.27 for movie Eye for an Eye (1996)\n",
      "Predicting rating 4.25 for movie Hate (Haine, La) (1995)\n",
      "Predicting rating 4.25 for movie City of Lost Children, The (Cité des enfants perdus, La) (1995)\n",
      "Predicting rating 4.25 for movie Bed of Roses (1996)\n",
      "Predicting rating 4.23 for movie Before Sunrise (1995)\n",
      "Predicting rating 4.23 for movie Taxi Driver (1976)\n",
      "Predicting rating 4.20 for movie Jeffrey (1995)\n",
      "Predicting rating 4.17 for movie Birdcage, The (1996)\n",
      "Predicting rating 4.17 for movie Bottle Rocket (1996)\n",
      "Predicting rating 4.16 for movie Clerks (1994)\n",
      "Predicting rating 4.14 for movie Circle of Friends (1995)\n",
      "Predicting rating 4.14 for movie Angels and Insects (1995)\n",
      "Predicting rating 4.13 for movie American President, The (1995)\n",
      "Predicting rating 4.11 for movie Dead Man Walking (1995)\n",
      "Predicting rating 4.08 for movie Disclosure (1994)\n",
      "Predicting rating 4.08 for movie Mr. Holland's Opus (1995)\n",
      "Predicting rating 4.07 for movie Jumanji (1995)\n",
      "Predicting rating 4.06 for movie Walk in the Clouds, A (1995)\n",
      "Predicting rating 4.05 for movie Up Close and Personal (1996)\n",
      "Predicting rating 4.04 for movie Rob Roy (1995)\n",
      "Predicting rating 4.03 for movie Bridges of Madison County, The (1995)\n",
      "Predicting rating 4.03 for movie Seven (a.k.a. Se7en) (1995)\n",
      "Predicting rating 4.02 for movie To Die For (1995)\n",
      "Predicting rating 4.00 for movie Babe (1995)\n",
      "Predicting rating 4.00 for movie Four Rooms (1995)\n",
      "Predicting rating 4.00 for movie Sense and Sensibility (1995)\n",
      "Predicting rating 4.00 for movie Boys on the Side (1995)\n",
      "Predicting rating 3.98 for movie Black Sheep (1996)\n",
      "Predicting rating 3.96 for movie Dolores Claiborne (1995)\n",
      "Predicting rating 3.95 for movie Richard III (1995)\n",
      "Predicting rating 3.95 for movie Forget Paris (1995)\n",
      "Predicting rating 3.94 for movie Browning Version, The (1994)\n",
      "Predicting rating 3.94 for movie Dangerous Minds (1995)\n",
      "Predicting rating 3.93 for movie Misérables, Les (1995)\n",
      "Predicting rating 3.93 for movie In the Bleak Midwinter (1995)\n",
      "Predicting rating 3.89 for movie Basketball Diaries, The (1995)\n",
      "Predicting rating 3.88 for movie Mighty Aphrodite (1995)\n",
      "Predicting rating 3.87 for movie Nadja (1994)\n",
      "Predicting rating 3.86 for movie Mute Witness (1994)\n",
      "Predicting rating 3.86 for movie Don Juan DeMarco (1995)\n",
      "Predicting rating 3.86 for movie Mallrats (1995)\n",
      "Predicting rating 3.85 for movie Death and the Maiden (1994)\n",
      "Predicting rating 3.84 for movie To Wong Foo, Thanks for Everything! Julie Newmar (1995)\n",
      "Predicting rating 3.84 for movie GoldenEye (1995)\n",
      "Predicting rating 3.83 for movie Exotica (1994)\n",
      "Predicting rating 3.82 for movie Indian in the Cupboard, The (1995)\n",
      "Predicting rating 3.80 for movie Happy Gilmore (1996)\n",
      "Predicting rating 3.80 for movie Down Periscope (1996)\n",
      "Predicting rating 3.79 for movie French Twist (Gazon maudit) (1995)\n",
      "Predicting rating 3.78 for movie Copycat (1995)\n",
      "Predicting rating 3.78 for movie Othello (1995)\n",
      "Predicting rating 3.76 for movie Broken Arrow (1996)\n",
      "Predicting rating 3.76 for movie Now and Then (1995)\n",
      "Predicting rating 3.76 for movie Screamers (1995)\n",
      "Predicting rating 3.75 for movie Amazing Panda Adventure, The (1995)\n",
      "Predicting rating 3.75 for movie Burnt by the Sun (Utomlyonnye solntsem) (1994)\n",
      "Predicting rating 3.75 for movie Prophecy, The (1995)\n",
      "Predicting rating 3.74 for movie Get Shorty (1995)\n",
      "Predicting rating 3.74 for movie Blue in the Face (1995)\n",
      "Predicting rating 3.72 for movie Sudden Death (1995)\n",
      "Predicting rating 3.71 for movie Nick of Time (1995)\n",
      "Predicting rating 3.70 for movie Crossing Guard, The (1995)\n",
      "Predicting rating 3.70 for movie Before and After (1996)\n",
      "Predicting rating 3.68 for movie Billy Madison (1995)\n",
      "Predicting rating 3.68 for movie Smoke (1995)\n",
      "Predicting rating 3.68 for movie Apollo 13 (1995)\n",
      "Predicting rating 3.66 for movie Strange Days (1995)\n",
      "Predicting rating 3.66 for movie From Dusk Till Dawn (1996)\n",
      "Predicting rating 3.66 for movie Waterworld (1995)\n",
      "Predicting rating 3.64 for movie Muppet Treasure Island (1996)\n",
      "Predicting rating 3.61 for movie White Man's Burden (1995)\n",
      "Predicting rating 3.61 for movie Devil in a Blue Dress (1995)\n",
      "Predicting rating 3.60 for movie Cutthroat Island (1995)\n",
      "Predicting rating 3.59 for movie Assassins (1995)\n",
      "Predicting rating 3.59 for movie Kicking and Screaming (1995)\n",
      "Predicting rating 3.58 for movie Brothers McMullen, The (1995)\n",
      "Predicting rating 3.55 for movie Grumpier Old Men (1995)\n",
      "Predicting rating 3.54 for movie Something to Talk About (1995)\n",
      "Predicting rating 3.54 for movie Rumble in the Bronx (Hont faan kui) (1995)\n",
      "Predicting rating 3.54 for movie Bad Boys (1995)\n",
      "Predicting rating 3.54 for movie Balto (1995)\n",
      "Predicting rating 3.53 for movie Unstrung Heroes (1995)\n",
      "Predicting rating 3.49 for movie Hackers (1995)\n",
      "Predicting rating 3.49 for movie Desperado (1995)\n",
      "Predicting rating 3.49 for movie Drop Zone (1994)\n",
      "Predicting rating 3.48 for movie Leaving Las Vegas (1995)\n",
      "Predicting rating 3.48 for movie How to Make an American Quilt (1995)\n",
      "Predicting rating 3.47 for movie Things to Do in Denver When You're Dead (1995)\n",
      "Predicting rating 3.46 for movie Clockers (1995)\n",
      "Predicting rating 3.46 for movie Lord of Illusions (1995)\n",
      "Predicting rating 3.46 for movie Home for the Holidays (1995)\n",
      "Predicting rating 3.45 for movie Casper (1995)\n",
      "Predicting rating 3.44 for movie Ed Wood (1994)\n",
      "Predicting rating 3.44 for movie Three Wishes (1995)\n",
      "Predicting rating 3.44 for movie Reckless (1995)\n",
      "Predicting rating 3.44 for movie Cure, The (1995)\n",
      "Predicting rating 3.43 for movie Jupiter's Wife (1994)\n",
      "Predicting rating 3.43 for movie Dead Presidents (1995)\n",
      "Predicting rating 3.43 for movie Total Eclipse (1995)\n",
      "Predicting rating 3.43 for movie Once Upon a Time... When We Were Colored (1995)\n",
      "Predicting rating 3.43 for movie When Night Is Falling (1995)\n",
      "Predicting rating 3.43 for movie Steal Big, Steal Little (1995)\n",
      "Predicting rating 3.43 for movie Man of the Year (1995)\n",
      "Predicting rating 3.42 for movie Castle Freak (1995)\n",
      "Predicting rating 3.42 for movie Young Poisoner's Handbook, The (1995)\n",
      "Predicting rating 3.42 for movie Wild Bill (1995)\n",
      "Predicting rating 3.42 for movie Dumb & Dumber (Dumb and Dumber) (1994)\n",
      "Predicting rating 3.41 for movie Restoration (1995)\n",
      "Predicting rating 3.41 for movie Powder (1995)\n",
      "Predicting rating 3.41 for movie Net, The (1995)\n",
      "Predicting rating 3.41 for movie Unzipped (1995)\n",
      "Predicting rating 3.40 for movie Unforgettable (1996)\n",
      "Predicting rating 3.37 for movie Under Siege 2: Dark Territory (1995)\n",
      "Predicting rating 3.36 for movie Shanghai Triad (Yao a yao yao dao waipo qiao) (1995)\n",
      "Predicting rating 3.35 for movie Tom and Huck (1995)\n",
      "Predicting rating 3.34 for movie Father of the Bride Part II (1995)\n",
      "Predicting rating 3.33 for movie Vampire in Brooklyn (1995)\n",
      "Predicting rating 3.33 for movie Exit to Eden (1994)\n",
      "Predicting rating 3.33 for movie Bushwhacked (1995)\n",
      "Predicting rating 3.32 for movie Jury Duty (1995)\n",
      "Predicting rating 3.31 for movie Jade (1995)\n",
      "Predicting rating 3.30 for movie Doom Generation, The (1995)\n",
      "Predicting rating 3.25 for movie First Knight (1995)\n",
      "Predicting rating 3.22 for movie Congo (1995)\n",
      "Predicting rating 3.18 for movie Dracula: Dead and Loving It (1995)\n",
      "Predicting rating 3.16 for movie Goofy Movie, A (1995)\n",
      "Predicting rating 3.13 for movie Scarlet Letter, The (1995)\n",
      "Predicting rating 3.12 for movie Nine Months (1995)\n",
      "Predicting rating 3.12 for movie Species (1995)\n",
      "Predicting rating 3.10 for movie Canadian Bacon (1995)\n",
      "Predicting rating 3.06 for movie Dunston Checks In (1996)\n",
      "Predicting rating 3.05 for movie Lawnmower Man 2: Beyond Cyberspace (1996)\n",
      "Predicting rating 3.05 for movie Safe (1995)\n",
      "Predicting rating 3.04 for movie Juror, The (1996)\n",
      "Predicting rating 3.04 for movie Johnny Mnemonic (1995)\n",
      "Predicting rating 3.02 for movie Don't Be a Menace to South Central While Drinking Your Juice in the Hood (1996)\n",
      "Predicting rating 3.00 for movie Ace Ventura: When Nature Calls (1995)\n",
      "Predicting rating 2.98 for movie Showgirls (1995)\n",
      "Predicting rating 2.96 for movie Boomerang (1992)\n",
      "Predicting rating 2.95 for movie Money Train (1995)\n",
      "Predicting rating 2.95 for movie If Lucy Fell (1996)\n",
      "Predicting rating 2.94 for movie Sabrina (1995)\n",
      "Predicting rating 2.94 for movie City Hall (1996)\n",
      "Predicting rating 2.93 for movie Batman Forever (1995)\n",
      "Predicting rating 2.92 for movie Pocahontas (1995)\n",
      "Predicting rating 2.89 for movie Beyond Rangoon (1995)\n",
      "Predicting rating 2.87 for movie Mortal Kombat (1995)\n",
      "Predicting rating 2.85 for movie Mr. Wrong (1996)\n",
      "Predicting rating 2.83 for movie Mary Reilly (1996)\n",
      "Predicting rating 2.78 for movie Free Willy 2: The Adventure Home (1995)\n",
      "Predicting rating 2.78 for movie Judge Dredd (1995)\n",
      "Predicting rating 2.76 for movie Destiny Turns on the Radio (1995)\n",
      "Predicting rating 2.72 for movie Waiting to Exhale (1995)\n",
      "Predicting rating 2.72 for movie Big Green, The (1995)\n",
      "Predicting rating 2.71 for movie Bio-Dome (1996)\n",
      "Predicting rating 2.68 for movie Big Bully (1996)\n",
      "Predicting rating 2.68 for movie Two if by Sea (1996)\n",
      "Predicting rating 2.59 for movie It Takes Two (1995)\n",
      "Predicting rating 2.51 for movie Babysitter, The (1995)\n",
      "Predicting rating 2.49 for movie Mighty Morphin Power Rangers: The Movie (1995)\n",
      "Predicting rating 2.44 for movie Pie in the Sky (1996)\n",
      "Predicting rating 2.42 for movie Amateur (1994)\n",
      "Predicting rating 2.36 for movie NeverEnding Story III, The (1994)\n",
      "Predicting rating 2.04 for movie Fair Game (1995)\n",
      "Predicting rating 1.97 for movie Addiction, The (1995)\n",
      "Predicting rating 1.95 for movie Mad Love (1995)\n",
      "Predicting rating 1.44 for movie Love & Human Remains (1993)\n"
     ]
    }
   ],
   "source": [
    "predicts = pm[:, 0]\n",
    "\n",
    "res = []\n",
    "for i in range(len(popular_movies)):\n",
    "    res.append((predicts[i], movieList[i]))\n",
    "\n",
    "res.sort(key=lambda x: x[0], reverse=True)\n",
    "\n",
    "for item in res:\n",
    "    print(f\"Predicting rating {item[0]:0.2f} for movie {item[1]}\")"
   ]
  }
 ],
 "metadata": {
  "kernelspec": {
   "display_name": "Python 3",
   "language": "python",
   "name": "python3"
  },
  "language_info": {
   "codemirror_mode": {
    "name": "ipython",
    "version": 3
   },
   "file_extension": ".py",
   "mimetype": "text/x-python",
   "name": "python",
   "nbconvert_exporter": "python",
   "pygments_lexer": "ipython3",
   "version": "3.11.6"
  }
 },
 "nbformat": 4,
 "nbformat_minor": 4
}
